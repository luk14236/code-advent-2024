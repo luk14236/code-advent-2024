{
  "nbformat": 4,
  "nbformat_minor": 0,
  "metadata": {
    "colab": {
      "provenance": []
    },
    "kernelspec": {
      "name": "python3",
      "display_name": "Python 3"
    },
    "language_info": {
      "name": "python"
    }
  },
  "cells": [
    {
      "cell_type": "code",
      "source": [
        "entradas = \"\"\"Button A: X+94, Y+34\n",
        "Button B: X+22, Y+67\n",
        "Prize: X=8400, Y=5400\n",
        "\n",
        "Button A: X+26, Y+66\n",
        "Button B: X+67, Y+21\n",
        "Prize: X=12748, Y=12176\n",
        "\n",
        "Button A: X+17, Y+86\n",
        "Button B: X+84, Y+37\n",
        "Prize: X=7870, Y=6450\n",
        "\n",
        "Button A: X+69, Y+23\n",
        "Button B: X+27, Y+71\n",
        "Prize: X=18641, Y=10279\"\"\""
      ],
      "metadata": {
        "id": "KEgvNEItmdGc"
      },
      "execution_count": null,
      "outputs": []
    },
    {
      "cell_type": "code",
      "source": [
        "\n",
        "for entrada in entradas.split(\"\\n\\n\"):\n",
        "\n",
        "\n",
        "  print(\"hdgdhqjdhwdgqjhd------------\",entrada)"
      ],
      "metadata": {
        "colab": {
          "base_uri": "https://localhost:8080/"
        },
        "id": "PmkMbldymdkG",
        "outputId": "9bcb7e60-b978-46b3-9d93-f3698fd2a068"
      },
      "execution_count": null,
      "outputs": [
        {
          "output_type": "stream",
          "name": "stdout",
          "text": [
            "hdgdhqjdhwdgqjhd------------ Button A: X+94, Y+34\n",
            "Button B: X+22, Y+67\n",
            "Prize: X=8400, Y=5400\n",
            "hdgdhqjdhwdgqjhd------------ Button A: X+26, Y+66\n",
            "Button B: X+67, Y+21\n",
            "Prize: X=12748, Y=12176\n",
            "hdgdhqjdhwdgqjhd------------ Button A: X+17, Y+86\n",
            "Button B: X+84, Y+37\n",
            "Prize: X=7870, Y=6450\n",
            "hdgdhqjdhwdgqjhd------------ Button A: X+69, Y+23\n",
            "Button B: X+27, Y+71\n",
            "Prize: X=18641, Y=10279\n"
          ]
        }
      ]
    },
    {
      "cell_type": "code",
      "source": [],
      "metadata": {
        "id": "7LwsswPFmk17"
      },
      "execution_count": null,
      "outputs": []
    }
  ]
}