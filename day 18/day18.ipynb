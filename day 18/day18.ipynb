{
 "cells": [
  {
   "cell_type": "code",
   "execution_count": 164,
   "metadata": {},
   "outputs": [],
   "source": [
    "payload = \"\"\"...#...\n",
    "..#..#.\n",
    "....#..\n",
    "...#..#\n",
    "..#..#.\n",
    ".#..#..\n",
    "#.#....\"\"\""
   ]
  },
  {
   "cell_type": "code",
   "execution_count": 247,
   "metadata": {},
   "outputs": [],
   "source": [
    "invalid_position = \"\"\"5,4\n",
    "4,2\n",
    "4,5\n",
    "3,0\n",
    "2,1\n",
    "6,3\n",
    "2,4\n",
    "1,5\n",
    "0,6\n",
    "3,3\n",
    "2,6\n",
    "5,1\n",
    "\"\"\""
   ]
  },
  {
   "cell_type": "code",
   "execution_count": 267,
   "metadata": {},
   "outputs": [],
   "source": [
    "grid = [[f'.' for x in range(7)] for y in range(7)]"
   ]
  },
  {
   "cell_type": "code",
   "execution_count": 268,
   "metadata": {},
   "outputs": [],
   "source": [
    "#Marcando os invalidos\n",
    "for position in invalid_position.split():\n",
    "    x,y = position.split(',')\n",
    "    grid[int(y)][int(x)] = \"#\"\n",
    "\n",
    "#adicionando o inicial\n",
    "#grid[0][0] = \"!\""
   ]
  },
  {
   "cell_type": "code",
   "execution_count": 281,
   "metadata": {},
   "outputs": [],
   "source": [
    "direita = (1, 0)\n",
    "esquerda = (0, -1)\n",
    "sobe = (-1, 0)\n",
    "desce = (0, 1)"
   ]
  },
  {
   "cell_type": "code",
   "execution_count": 270,
   "metadata": {},
   "outputs": [
    {
     "data": {
      "text/plain": [
       "[['.', '.', '.', '#', '.', '.', '.'],\n",
       " ['.', '.', '#', '.', '.', '#', '.'],\n",
       " ['.', '.', '.', '.', '#', '.', '.'],\n",
       " ['.', '.', '.', '#', '.', '.', '#'],\n",
       " ['.', '.', '#', '.', '.', '#', '.'],\n",
       " ['.', '#', '.', '.', '#', '.', '.'],\n",
       " ['#', '.', '#', '.', '.', '.', '.']]"
      ]
     },
     "execution_count": 270,
     "metadata": {},
     "output_type": "execute_result"
    }
   ],
   "source": [
    "grid"
   ]
  },
  {
   "cell_type": "code",
   "execution_count": 271,
   "metadata": {},
   "outputs": [],
   "source": [
    "ja_visitou = set()"
   ]
  },
  {
   "cell_type": "code",
   "execution_count": 272,
   "metadata": {},
   "outputs": [],
   "source": [
    "def add_coordinates(coord1, coord2):\n",
    "    novo = tuple(a + b for a, b in zip(coord1, coord2))\n",
    "\n",
    "    print(\"novo\", novo)\n",
    "\n",
    "    if novo in ja_visitou or novo[0] < 0 or novo[1] < 0:\n",
    "        return False\n",
    "    \n",
    "    return novo"
   ]
  },
  {
   "cell_type": "code",
   "execution_count": 273,
   "metadata": {},
   "outputs": [],
   "source": [
    "#start 0,0 top-left\n",
    "#exit 70,70 botton-right\n",
    "target_y = target_x = len(grid)-1"
   ]
  },
  {
   "cell_type": "code",
   "execution_count": 274,
   "metadata": {},
   "outputs": [],
   "source": [
    "if grid[target_y][target_x] == '#':\n",
    "    print(\"deu ruim\")"
   ]
  },
  {
   "cell_type": "code",
   "execution_count": 277,
   "metadata": {},
   "outputs": [
    {
     "name": "stdout",
     "output_type": "stream",
     "text": [
      "novo (1, 0)\n",
      "novo (0, 1)\n",
      "novo (-1, 0)\n",
      "direita\n",
      "(1, 0) 1\n",
      "novo (2, 0)\n",
      "novo (1, 1)\n",
      "novo (0, 0)\n",
      "direita\n",
      "(2, 0) 2\n",
      "novo (3, 0)\n",
      "novo (2, 1)\n",
      "novo (1, 0)\n",
      "direita\n",
      "(3, 0) 3\n",
      "novo (4, 0)\n",
      "novo (3, 1)\n",
      "novo (2, 0)\n",
      "direita\n",
      "(4, 0) 4\n",
      "novo (5, 0)\n",
      "novo (4, 1)\n",
      "novo (3, 0)\n",
      "baixo\n",
      "(4, 1) 5\n",
      "novo (5, 1)\n",
      "novo (4, 2)\n",
      "novo (3, 1)\n",
      "sobe\n",
      "(3, 1) 6\n",
      "novo (4, 1)\n",
      "novo (3, 2)\n",
      "novo (2, 1)\n",
      "baixo\n",
      "(3, 2) 7\n",
      "novo (4, 2)\n",
      "novo (3, 3)\n",
      "novo (2, 2)\n",
      "sobe\n",
      "(2, 2) 8\n",
      "novo (3, 2)\n",
      "novo (2, 3)\n",
      "novo (1, 2)\n",
      "baixo\n",
      "(2, 3) 9\n",
      "novo (3, 3)\n",
      "novo (2, 4)\n",
      "novo (1, 3)\n",
      "sobe\n",
      "(1, 3) 10\n",
      "novo (2, 3)\n",
      "novo (1, 4)\n",
      "novo (0, 3)\n",
      "baixo\n",
      "(1, 4) 11\n",
      "novo (2, 4)\n",
      "novo (1, 5)\n",
      "novo (0, 4)\n",
      "sobe\n",
      "(0, 4) 12\n",
      "novo (1, 4)\n",
      "novo (0, 5)\n",
      "novo (-1, 4)\n",
      "baixo\n",
      "(0, 5) 13\n",
      "novo (1, 5)\n",
      "novo (0, 6)\n",
      "novo (-1, 5)\n",
      "baixo\n",
      "(0, 6) 14\n",
      "novo (1, 6)\n",
      "novo (0, 7)\n",
      "novo (-1, 6)\n",
      "direita\n",
      "(1, 6) 15\n",
      "novo (2, 6)\n",
      "novo (1, 7)\n",
      "novo (0, 6)\n",
      "direita\n",
      "(2, 6) 16\n",
      "novo (3, 6)\n",
      "novo (2, 7)\n",
      "novo (1, 6)\n",
      "(2, 6) 16\n"
     ]
    }
   ],
   "source": [
    "procura = True\n",
    "passos = 0\n",
    "atual = (0,0)\n",
    "sem_saida = []\n",
    "ja_visitou = set()\n",
    "while procura:\n",
    "    n_direita = add_coordinates(atual, direita)\n",
    "    n_baixo = add_coordinates(atual, desce)\n",
    "    n_sobe = add_coordinates(atual, sobe)\n",
    "    n_esquerda = add_coordinates(atual, esquerda)\n",
    "    \n",
    "    #print(n_direita, n_baixo, n_sobe)\n",
    "\n",
    "    grid[atual[0]][atual[1]] = \".\"\n",
    "\n",
    "    try:\n",
    "        if n_direita and grid[n_direita[0]][n_direita[1]] == '.':\n",
    "            grid[n_direita[0]][n_direita[1]] = \"!\"\n",
    "            atual = n_direita\n",
    "            passos += 1\n",
    "            print(\"direita\")\n",
    "        elif n_baixo and grid[n_baixo[0]][n_baixo[1]] == '.':\n",
    "            grid[n_baixo[0]][n_baixo[1]] = \"!\"\n",
    "            atual = n_baixo\n",
    "            passos += 1\n",
    "            print(\"baixo\")\n",
    "        elif n_sobe and grid[n_sobe[0]][n_sobe[1]] == '.':\n",
    "            grid[n_sobe[0]][n_sobe[1]] = \"!\"\n",
    "            atual = n_sobe\n",
    "            passos += 1\n",
    "            print(\"sobe\")\n",
    "        elif n_esquerda and grid[n_sobe[0]][n_sobe[1]] == '.':\n",
    "            grid[n_sobe[0]][n_sobe[1]] = \"!\"\n",
    "            atual = n_sobe\n",
    "            passos += 1\n",
    "            print(\"sobe\")\n",
    "        else:\n",
    "            grid[atual[0]][atual[1]] = \"D\"\n",
    "            procura = False\n",
    "\n",
    "        ja_visitou.add(atual)\n",
    "    except:\n",
    "        procura = False\n",
    "    print(atual, passos)\n"
   ]
  },
  {
   "cell_type": "code",
   "execution_count": 280,
   "metadata": {},
   "outputs": [
    {
     "data": {
      "text/plain": [
       "[['.', '.', '.', '#', '.', '.', '.'],\n",
       " ['.', '.', '#', '.', '.', '#', '.'],\n",
       " ['.', '.', '.', '.', '#', '.', '.'],\n",
       " ['.', '.', '.', '#', '.', '.', '#'],\n",
       " ['.', '.', '#', '.', '.', '#', '.'],\n",
       " ['D', '#', '.', '.', '#', '.', '.'],\n",
       " ['#', '.', '#', '.', '.', '.', '.']]"
      ]
     },
     "execution_count": 280,
     "metadata": {},
     "output_type": "execute_result"
    }
   ],
   "source": [
    "grid"
   ]
  },
  {
   "cell_type": "code",
   "execution_count": null,
   "metadata": {},
   "outputs": [],
   "source": []
  }
 ],
 "metadata": {
  "kernelspec": {
   "display_name": "Python 3",
   "language": "python",
   "name": "python3"
  },
  "language_info": {
   "codemirror_mode": {
    "name": "ipython",
    "version": 3
   },
   "file_extension": ".py",
   "mimetype": "text/x-python",
   "name": "python",
   "nbconvert_exporter": "python",
   "pygments_lexer": "ipython3",
   "version": "3.11.9"
  }
 },
 "nbformat": 4,
 "nbformat_minor": 2
}
