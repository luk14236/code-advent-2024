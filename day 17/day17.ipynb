{
 "cells": [
  {
   "cell_type": "code",
   "execution_count": 17,
   "metadata": {},
   "outputs": [
    {
     "name": "stdout",
     "output_type": "stream",
     "text": [
      "1,5,7,4,1,6,0,3,0\n"
     ]
    }
   ],
   "source": [
    "def simulate_program(register_a, register_b, register_c, program):\n",
    "    def get_combo_value(operand):\n",
    "        if operand < 4:\n",
    "            return operand\n",
    "        elif operand == 4:\n",
    "            return registers['A']\n",
    "        elif operand == 5:\n",
    "            return registers['B']\n",
    "        elif operand == 6:\n",
    "            return registers['C']\n",
    "        else:\n",
    "            raise ValueError(\"Invalid combo operand: 7 is reserved.\")\n",
    "\n",
    "    registers = {'A': register_a, 'B': register_b, 'C': register_c}\n",
    "    instruction_pointer = 0\n",
    "    output = []\n",
    "\n",
    "    while instruction_pointer < len(program):\n",
    "        opcode = program[instruction_pointer]\n",
    "        operand = program[instruction_pointer + 1] if instruction_pointer + 1 < len(program) else None\n",
    "\n",
    "        if opcode == 0: \n",
    "            denominator = 2 ** get_combo_value(operand)\n",
    "            registers['A'] //= denominator\n",
    "\n",
    "        elif opcode == 1:  \n",
    "            registers['B'] ^= operand\n",
    "\n",
    "        elif opcode == 2: \n",
    "            registers['B'] = get_combo_value(operand) % 8\n",
    "\n",
    "        elif opcode == 3:  \n",
    "            if registers['A'] != 0:\n",
    "                instruction_pointer = operand\n",
    "                continue\n",
    "\n",
    "        elif opcode == 4:  \n",
    "            registers['B'] ^= registers['C']\n",
    "\n",
    "        elif opcode == 5:  \n",
    "            output.append(get_combo_value(operand) % 8)\n",
    "\n",
    "        elif opcode == 6:  \n",
    "            denominator = 2 ** get_combo_value(operand)\n",
    "            registers['B'] = registers['A'] // denominator\n",
    "\n",
    "        elif opcode == 7:  \n",
    "            denominator = 2 ** get_combo_value(operand)\n",
    "            registers['C'] = registers['A'] // denominator\n",
    "\n",
    "        else:\n",
    "            raise ValueError(f\"Invalid opcode: {opcode}\")\n",
    "\n",
    "        instruction_pointer += 2\n",
    "\n",
    "    return ','.join(map(str, output))\n",
    "\n",
    "\n",
    "register_a = 51342988\n",
    "register_b = 0\n",
    "register_c = 0\n",
    "program = [2,4,1,3,7,5,4,0,1,3,0,3,5,5,3,0]\n",
    "\n",
    "\n",
    "output = simulate_program(register_a, register_b, register_c, program)\n",
    "print(output)\n"
   ]
  }
 ],
 "metadata": {
  "kernelspec": {
   "display_name": "Python 3",
   "language": "python",
   "name": "python3"
  },
  "language_info": {
   "codemirror_mode": {
    "name": "ipython",
    "version": 3
   },
   "file_extension": ".py",
   "mimetype": "text/x-python",
   "name": "python",
   "nbconvert_exporter": "python",
   "pygments_lexer": "ipython3",
   "version": "3.11.9"
  }
 },
 "nbformat": 4,
 "nbformat_minor": 2
}
