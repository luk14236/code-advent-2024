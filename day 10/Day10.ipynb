{
  "nbformat": 4,
  "nbformat_minor": 0,
  "metadata": {
    "colab": {
      "provenance": []
    },
    "kernelspec": {
      "name": "python3",
      "display_name": "Python 3"
    },
    "language_info": {
      "name": "python"
    }
  },
  "cells": [
    {
      "cell_type": "code",
      "source": [
        "from collections import deque\n",
        "import numpy as np\n",
        "\n",
        "# Define the topographic map as input\n",
        "trilhas = \"\"\"56566534304501010567543210985433456765656\n",
        "47887015213432123498698561876322019808765\n",
        "30996326012569765486787478901011326719454\n",
        "21345437867678894345695323010110458328323\n",
        "76543078998667801232184010923234569634912\n",
        "89012123456758910321073423874325678765801\n",
        "21010010969843210078934014965410987106702\n",
        "10121089878102102127125675894303201215010\n",
        "89439654389289043036001986765214106304321\n",
        "76548701274376558945432787652105687455901\n",
        "05456910465985467876013498943034796567812\n",
        "12367876544100389860323437410589892378743\n",
        "09450987033201276541410526323478901489656\n",
        "98541056124334985432569615410564876503456\n",
        "67632341034321650124378700198323498912987\n",
        "50721050125610743765234893267010567023478\n",
        "41890121036781812890103484786567832110569\n",
        "32103430549898905632112545691432945021654\n",
        "21234589658923456543007631210321876930323\n",
        "10045678767810167652108920101210967845610\n",
        "20176501658701078981017011234101456934791\n",
        "65281012349612569896543210965789321129887\n",
        "74392309658543478787612323872370110001236\n",
        "89654498767018762123205478961465200100145\n",
        "21763567346529456032118567450554321012298\n",
        "10892100256432376543089012329689876521347\n",
        "21090121187601789434308743018778989430456\n",
        "34789032098965438325219650898569876543265\n",
        "25676543107178721116778541767430987650101\n",
        "18789054236019980007865432054121456765567\n",
        "09652112345127872126957654123098387891438\n",
        "58543905439034565434548723210367294380129\n",
        "45678876098749654349659510301250193210034\n",
        "34589232105658701278765465432348984523895\n",
        "21090145234343210989852379821023479610796\n",
        "00203453456950197870141089760010568723687\n",
        "10112762367869086521236781051023478154554\n",
        "23234891056778076430145692342310879034563\n",
        "54965910189880125031036780123498960123676\n",
        "69876101098799034123321099834567254012985\n",
        "78765212345688765434210126765650123323476\"\"\"\n",
        "\n",
        "trilha_matriz = np.array([list(linha) for linha in trilhas.split('\\n')])\n",
        "\n",
        "# Convert the map into a 2D NumPy array of integers\n",
        "height_map = np.array([[int(c) for c in row] for row in trilha_matriz])\n",
        "\n",
        "# Get dimensions of the map\n",
        "rows, cols = height_map.shape\n",
        "\n",
        "# Directions for moving up, down, left, right\n",
        "directions = [(-1, 0), (1, 0), (0, -1), (0, 1)]\n",
        "\n",
        "# Function to compute the score of a trailhead\n",
        "def compute_trailhead_score(start):\n",
        "    queue = deque([start])  # BFS queue\n",
        "    visited = set()\n",
        "    visited.add(start)\n",
        "    score = 0\n",
        "\n",
        "    while queue:\n",
        "        x, y = queue.popleft()\n",
        "        current_height = height_map[x, y]\n",
        "\n",
        "        # If the current height is 9, increment the score\n",
        "        if current_height == 9:\n",
        "            score += 1\n",
        "            continue\n",
        "\n",
        "        # Explore neighbors\n",
        "        for dx, dy in directions:\n",
        "            nx, ny = x + dx, y + dy\n",
        "            if 0 <= nx < rows and 0 <= ny < cols and (nx, ny) not in visited:\n",
        "                if height_map[nx, ny] == current_height + 1:\n",
        "                    queue.append((nx, ny))\n",
        "                    visited.add((nx, ny))\n",
        "    return score\n",
        "\n",
        "# Identify all trailheads (positions with height 0)\n",
        "trailheads = [(r, c) for r in range(rows) for c in range(cols) if height_map[r, c] == 0]\n",
        "\n",
        "# Compute the total score for all trailheads\n",
        "total_score = sum(compute_trailhead_score(trailhead) for trailhead in trailheads)\n",
        "\n",
        "total_score\n"
      ],
      "metadata": {
        "colab": {
          "base_uri": "https://localhost:8080/"
        },
        "id": "Dxmsq4gs5V0g",
        "outputId": "1e53aee9-003b-49aa-bc0f-a0c534e044d2"
      },
      "execution_count": null,
      "outputs": [
        {
          "output_type": "execute_result",
          "data": {
            "text/plain": [
              "548"
            ]
          },
          "metadata": {},
          "execution_count": 36
        }
      ]
    },
    {
      "cell_type": "code",
      "source": [
        "# Define the new topographic map input\n",
        "new_topographic_map = [\n",
        "    \"56566534304501010567543210985433456765656\",\n",
        "    \"47887015213432123498698561876322019808765\",\n",
        "    \"30996326012569765486787478901011326719454\",\n",
        "    \"21345437867678894345695323010110458328323\",\n",
        "    \"76543078998667801232184010923234569634912\",\n",
        "    \"89012123456758910321073423874325678765801\",\n",
        "    \"21010010969843210078934014965410987106702\",\n",
        "    \"10121089878102102127125675894303201215010\",\n",
        "    \"89439654389289043036001986765214106304321\",\n",
        "    \"76548701274376558945432787652105687455901\",\n",
        "    \"05456910465985467876013498943034796567812\",\n",
        "    \"12367876544100389860323437410589892378743\",\n",
        "    \"09450987033201276541410526323478901489656\",\n",
        "    \"98541056124334985432569615410564876503456\",\n",
        "    \"67632341034321650124378700198323498912987\",\n",
        "    \"50721050125610743765234893267010567023478\",\n",
        "    \"41890121036781812890103484786567832110569\",\n",
        "    \"32103430549898905632112545691432945021654\",\n",
        "    \"21234589658923456543007631210321876930323\",\n",
        "    \"10045678767810167652108920101210967845610\",\n",
        "    \"20176501658701078981017011234101456934791\",\n",
        "    \"65281012349612569896543210965789321129887\",\n",
        "    \"74392309658543478787612323872370110001236\",\n",
        "    \"89654498767018762123205478961465200100145\",\n",
        "    \"21763567346529456032118567450554321012298\",\n",
        "    \"10892100256432376543089012329689876521347\",\n",
        "    \"21090121187601789434308743018778989430456\",\n",
        "    \"34789032098965438325219650898569876543265\",\n",
        "    \"25676543107178721116778541767430987650101\",\n",
        "    \"18789054236019980007865432054121456765567\",\n",
        "    \"09652112345127872126957654123098387891438\",\n",
        "    \"58543905439034565434548723210367294380129\",\n",
        "    \"45678876098749654349659510301250193210034\",\n",
        "    \"34589232105658701278765465432348984523895\",\n",
        "    \"21090145234343210989852379821023479610796\",\n",
        "    \"00203453456950197870141089760010568723687\",\n",
        "    \"10112762367869086521236781051023478154554\",\n",
        "    \"23234891056778076430145692342310879034563\",\n",
        "    \"54965910189880125031036780123498960123676\",\n",
        "    \"69876101098799034123321099834567254012985\",\n",
        "    \"78765212345688765434210126765650123323476\",\n",
        "]\n",
        "\n",
        "# Convert the new map into a 2D NumPy array of integers\n",
        "new_height_map = np.array([[int(c) for c in row] for row in new_topographic_map])\n",
        "\n",
        "# Update the global variables for this new map\n",
        "height_map = new_height_map\n",
        "rows, cols = height_map.shape\n",
        "\n",
        "# Identify all trailheads (positions with height 0)\n",
        "trailheads = [(r, c) for r in range(rows) for c in range(cols) if height_map[r, c] == 0]\n",
        "\n",
        "# Compute the total rating for all trailheads using the corrected logic\n",
        "total_rating_new_map = sum(compute_trailhead_rating_corrected(trailhead) for trailhead in trailheads)\n",
        "\n",
        "total_rating_new_map\n"
      ],
      "metadata": {
        "colab": {
          "base_uri": "https://localhost:8080/",
          "height": 341
        },
        "id": "LrITKHEh5V3v",
        "outputId": "09995761-de88-4628-92cb-2e097f2432fc"
      },
      "execution_count": null,
      "outputs": [
        {
          "output_type": "error",
          "ename": "NameError",
          "evalue": "name 'compute_trailhead_rating_corrected' is not defined",
          "traceback": [
            "\u001b[0;31m---------------------------------------------------------------------------\u001b[0m",
            "\u001b[0;31mNameError\u001b[0m                                 Traceback (most recent call last)",
            "\u001b[0;32m<ipython-input-38-e10f11763aff>\u001b[0m in \u001b[0;36m<cell line: 57>\u001b[0;34m()\u001b[0m\n\u001b[1;32m     55\u001b[0m \u001b[0;34m\u001b[0m\u001b[0m\n\u001b[1;32m     56\u001b[0m \u001b[0;31m# Compute the total rating for all trailheads using the corrected logic\u001b[0m\u001b[0;34m\u001b[0m\u001b[0;34m\u001b[0m\u001b[0m\n\u001b[0;32m---> 57\u001b[0;31m \u001b[0mtotal_rating_new_map\u001b[0m \u001b[0;34m=\u001b[0m \u001b[0msum\u001b[0m\u001b[0;34m(\u001b[0m\u001b[0mcompute_trailhead_rating_corrected\u001b[0m\u001b[0;34m(\u001b[0m\u001b[0mtrailhead\u001b[0m\u001b[0;34m)\u001b[0m \u001b[0;32mfor\u001b[0m \u001b[0mtrailhead\u001b[0m \u001b[0;32min\u001b[0m \u001b[0mtrailheads\u001b[0m\u001b[0;34m)\u001b[0m\u001b[0;34m\u001b[0m\u001b[0;34m\u001b[0m\u001b[0m\n\u001b[0m\u001b[1;32m     58\u001b[0m \u001b[0;34m\u001b[0m\u001b[0m\n\u001b[1;32m     59\u001b[0m \u001b[0mtotal_rating_new_map\u001b[0m\u001b[0;34m\u001b[0m\u001b[0;34m\u001b[0m\u001b[0m\n",
            "\u001b[0;32m<ipython-input-38-e10f11763aff>\u001b[0m in \u001b[0;36m<genexpr>\u001b[0;34m(.0)\u001b[0m\n\u001b[1;32m     55\u001b[0m \u001b[0;34m\u001b[0m\u001b[0m\n\u001b[1;32m     56\u001b[0m \u001b[0;31m# Compute the total rating for all trailheads using the corrected logic\u001b[0m\u001b[0;34m\u001b[0m\u001b[0;34m\u001b[0m\u001b[0m\n\u001b[0;32m---> 57\u001b[0;31m \u001b[0mtotal_rating_new_map\u001b[0m \u001b[0;34m=\u001b[0m \u001b[0msum\u001b[0m\u001b[0;34m(\u001b[0m\u001b[0mcompute_trailhead_rating_corrected\u001b[0m\u001b[0;34m(\u001b[0m\u001b[0mtrailhead\u001b[0m\u001b[0;34m)\u001b[0m \u001b[0;32mfor\u001b[0m \u001b[0mtrailhead\u001b[0m \u001b[0;32min\u001b[0m \u001b[0mtrailheads\u001b[0m\u001b[0;34m)\u001b[0m\u001b[0;34m\u001b[0m\u001b[0;34m\u001b[0m\u001b[0m\n\u001b[0m\u001b[1;32m     58\u001b[0m \u001b[0;34m\u001b[0m\u001b[0m\n\u001b[1;32m     59\u001b[0m \u001b[0mtotal_rating_new_map\u001b[0m\u001b[0;34m\u001b[0m\u001b[0;34m\u001b[0m\u001b[0m\n",
            "\u001b[0;31mNameError\u001b[0m: name 'compute_trailhead_rating_corrected' is not defined"
          ]
        }
      ]
    },
    {
      "cell_type": "code",
      "source": [],
      "metadata": {
        "id": "MWLwRlpW5V62"
      },
      "execution_count": null,
      "outputs": []
    },
    {
      "cell_type": "code",
      "source": [],
      "metadata": {
        "id": "7fu-uDdd5V94"
      },
      "execution_count": null,
      "outputs": []
    },
    {
      "cell_type": "code",
      "source": [],
      "metadata": {
        "id": "TV9ybmWG5WAp"
      },
      "execution_count": null,
      "outputs": []
    },
    {
      "cell_type": "code",
      "source": [],
      "metadata": {
        "id": "kzM_2e7g5WDY"
      },
      "execution_count": null,
      "outputs": []
    }
  ]
}